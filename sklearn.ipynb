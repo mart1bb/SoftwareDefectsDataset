{
 "cells": [
  {
   "cell_type": "code",
   "execution_count": 75,
   "metadata": {},
   "outputs": [],
   "source": [
    "import pandas as pd\n",
    "import matplotlib.pyplot as plt\n",
    "import numpy as np\n",
    "from sklearn.preprocessing import StandardScaler \n",
    "from sklearn.tree import DecisionTreeClassifier\n",
    "from sklearn.ensemble import RandomForestClassifier\n",
    "from sklearn.neighbors import KNeighborsClassifier\n",
    "from sklearn.svm import SVC\n",
    "from sklearn.model_selection import train_test_split\n",
    "import seaborn\n",
    "from sklearn.neural_network import MLPClassifier\n"
   ]
  },
  {
   "cell_type": "code",
   "execution_count": 76,
   "metadata": {},
   "outputs": [
    {
     "name": "stdout",
     "output_type": "stream",
     "text": [
      "Index(['id', 'loc', 'v(g)', 'ev(g)', 'iv(g)', 'n', 'v', 'l', 'd', 'i', 'e',\n",
      "       'b', 't', 'lOCode', 'lOComment', 'lOBlank', 'locCodeAndComment',\n",
      "       'uniq_Op', 'uniq_Opnd', 'total_Op', 'total_Opnd', 'branchCount',\n",
      "       'defects'],\n",
      "      dtype='object')\n",
      "False\n"
     ]
    }
   ],
   "source": [
    "df = pd.read_csv(\"./train.csv\")\n",
    "df = df.sample(frac = 1)\n",
    "print(df.columns)\n",
    "print(df['defects'][0])"
   ]
  },
  {
   "cell_type": "code",
   "execution_count": 77,
   "metadata": {},
   "outputs": [],
   "source": [
    "def features_engineering(df):\n",
    "    df['mean_bnv'] = (df['n'] + df['v'] + df['b']) /3;\n",
    "    df['mean_uniqOpOpend'] = (df['uniq_Op'] + df['uniq_Opnd']) /2;\n",
    "    df['mean_totOpOpend'] = (df['total_Op'] + df['total_Opnd']) /2;\n",
    "    df['mean_brcntvg'] = (df['branchCount'] + df['v(g)']) / 2;\n",
    "    return df\n",
    "\n",
    "# newDF = features_engineering(df)"
   ]
  },
  {
   "cell_type": "markdown",
   "metadata": {},
   "source": [
    "# Random Forest"
   ]
  },
  {
   "cell_type": "code",
   "execution_count": 78,
   "metadata": {},
   "outputs": [
    {
     "name": "stdout",
     "output_type": "stream",
     "text": [
      "Train : 81410\n",
      "Test : 20353\n"
     ]
    }
   ],
   "source": [
    "X = df.drop(['defects','id'],axis=1)\n",
    "y = df['defects']\n",
    "\n",
    "X = StandardScaler().fit_transform(X)\n",
    "\n",
    "x_train, x_test, y_train, y_test = train_test_split(X, y, train_size=0.8, random_state=42)\n",
    "print(\"Train :\",len(y_train))\n",
    "print(\"Test :\",len(y_test))"
   ]
  },
  {
   "cell_type": "code",
   "execution_count": 79,
   "metadata": {},
   "outputs": [
    {
     "name": "stdout",
     "output_type": "stream",
     "text": [
      "0.813737532550484\n"
     ]
    }
   ],
   "source": [
    "model = RandomForestClassifier(n_estimators = 150,\n",
    "                                  criterion = 'gini',\n",
    "                                  max_depth = 7,\n",
    "                                  min_samples_leaf = 12,\n",
    "                                  max_features  = 'sqrt',\n",
    "                                  bootstrap = True,\n",
    "                                  oob_score = True,\n",
    "                                  n_jobs = -1, \n",
    "                                  random_state = 42,\n",
    "                                  verbose = 0)\n",
    "model.fit(x_train,y_train)\n",
    "\n",
    "print(model.score(x_test,y_test))"
   ]
  },
  {
   "cell_type": "markdown",
   "metadata": {},
   "source": [
    "### RandomForest :\n",
    "score => 0.815\n",
    "Time => 39.2s\n",
    "\n",
    "### SVC :\n",
    "score => 0.811\n",
    "Time => 11 min\n",
    "\n",
    "### DecisionTree :\n",
    "score => 0.72\n",
    "Time => 2.8s\n",
    "\n",
    "### KNN :\n",
    "score => 0.788\n",
    "Time => 2.2s\n",
    "\n",
    "### MLP:\n",
    "score => 0.813\n",
    "Time => 2.2s\n"
   ]
  },
  {
   "cell_type": "markdown",
   "metadata": {},
   "source": [
    "# Submission"
   ]
  },
  {
   "cell_type": "code",
   "execution_count": 80,
   "metadata": {},
   "outputs": [
    {
     "name": "stdout",
     "output_type": "stream",
     "text": [
      "           id   defects\n",
      "0      101763  0.249705\n",
      "1      101764  0.214442\n",
      "2      101765  0.675598\n",
      "3      101766  0.445325\n",
      "4      101767  0.136572\n",
      "...       ...       ...\n",
      "67837  169600  0.300113\n",
      "67838  169601  0.106787\n",
      "67839  169602  0.149949\n",
      "67840  169603  0.104740\n",
      "67841  169604  0.567638\n",
      "\n",
      "[67842 rows x 2 columns]\n"
     ]
    }
   ],
   "source": [
    "test_X = pd.read_csv(\"./test.csv\").drop('id',axis=1)\n",
    "\n",
    "test_X = StandardScaler().fit_transform(test_X)\n",
    "\n",
    "\n",
    "results = model.predict_proba(test_X)[:, 1]\n",
    "\n",
    "submission = pd.DataFrame()\n",
    "\n",
    "submission['id'] =  np.arange(101763,101763 + len(results))   # np.arange(101763,101763 + len(results[:67842]))\n",
    "submission['defects'] = results\n",
    "\n",
    "print(submission)\n",
    "submission.to_csv(\"./submission.csv\",index=False)"
   ]
  }
 ],
 "metadata": {
  "kernelspec": {
   "display_name": "Python 3",
   "language": "python",
   "name": "python3"
  },
  "language_info": {
   "codemirror_mode": {
    "name": "ipython",
    "version": 3
   },
   "file_extension": ".py",
   "mimetype": "text/x-python",
   "name": "python",
   "nbconvert_exporter": "python",
   "pygments_lexer": "ipython3",
   "version": "3.11.4"
  }
 },
 "nbformat": 4,
 "nbformat_minor": 2
}
